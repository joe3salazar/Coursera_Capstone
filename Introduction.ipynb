{
    "cells": [
        {
            "cell_type": "markdown",
            "metadata": {
                "collapsed": true
            },
            "source": "## Introduction"
        },
        {
            "cell_type": "markdown",
            "metadata": {},
            "source": "A local business owner is looking at opening a coffee shop in LA. To gain business investment the owner is looking for an area with a diverse population that shows promise to hold multicultural events. Finding similarities in venues around the LA area to identify the appropriate place and culture for the coffee shop. A K-nearest neighbor algorithm will be used to determined similarities in neighborhoods and determine the best place for a local coffee shop. "
        }
    ],
    "metadata": {
        "kernelspec": {
            "display_name": "Python 3.7",
            "language": "python",
            "name": "python3"
        },
        "language_info": {
            "codemirror_mode": {
                "name": "ipython",
                "version": 3
            },
            "file_extension": ".py",
            "mimetype": "text/x-python",
            "name": "python",
            "nbconvert_exporter": "python",
            "pygments_lexer": "ipython3",
            "version": "3.7.9"
        }
    },
    "nbformat": 4,
    "nbformat_minor": 1
}