{
    "cells": [
        {
            "cell_type": "markdown",
            "metadata": {
                "collapsed": true
            },
            "source": "# Data"
        },
        {
            "cell_type": "markdown",
            "metadata": {},
            "source": "The data use to run the K nearest neighbor algorithm will be from the four-square API. The data will be transformed to show the frequency of each shop type for 110 LA neighborhoods. Along with the neighborhood data the city demographics, average income, schools, average age and percent house ownership will helps identify more details about the areas. "
        }
    ],
    "metadata": {
        "kernelspec": {
            "display_name": "Python 3.7",
            "language": "python",
            "name": "python3"
        },
        "language_info": {
            "codemirror_mode": {
                "name": "ipython",
                "version": 3
            },
            "file_extension": ".py",
            "mimetype": "text/x-python",
            "name": "python",
            "nbconvert_exporter": "python",
            "pygments_lexer": "ipython3",
            "version": "3.7.9"
        }
    },
    "nbformat": 4,
    "nbformat_minor": 1
}